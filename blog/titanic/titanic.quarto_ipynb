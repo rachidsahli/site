{
  "cells": [
    {
      "cell_type": "markdown",
      "metadata": {},
      "source": [
        "---\n",
        "title: \"Peut-on prédire les survivants du Titanic ?\"\n",
        "description: \"Bien que la chance ait joué un rôle dans la survie des passagers, certaines catégories de personnes semblent avoir eu un avantage. Est-il possible de prédire ces chances de survie à l'avance ?\"\n",
        "lang : fr\n",
        "date: 01 mars 2025\n",
        "categories: [\"Python\",\"Machine learning\", \"Scikit-Learn\"]\n",
        "toc: true\n",
        "image: image_titanic/titanic.jpg\n",
        "page-layout: article\n",
        "\n",
        "jupyter: python3\n",
        "---\n",
        "\n",
        "\n",
        "Le naufrage du Titanic est l'un des plus terribles qu'il ait pu exister. Le 15 avril 1912, lors de son voyage inaugural, ce paquebot de 269 mètres de long (une trentaine de mètres de moins que la tour Eiffel) a coulé. Le trajet était le suivant, le 10 avril 1912, le RMS Titanic, quittait Southampton en Angleterre pour une traversée qui devait le conduire jusqu'à New York aux Etats-Unis, après une escale à Cherbourg et en Irlande.\n",
        "\n",
        "![](image_titanic/trajet_titanic.png){fig-alt=\"Trajet du titanic\" fig-align=\"center\" width=\"600\"}\n",
        "\n",
        "Il était qualifié d'insubmersible, mais sa collision avec un iceberg en a décidé autrement. Malheureusement, le nombre de canots de sauvetage était inférieur au nombre de passagers à bord. Cela a entraîné la mort de 1502 des 2224 passagers et membre d'équipage. Miracle ! Il y a eu 711 rescapés.\n",
        "\n",
        "Bien que la chance ait joué un rôle dans la survie des passagers, certaines catégories de personnes semblent avoir eu un avantage. Est-il possible de prédire ces chances de survie à l'avance ? Si oui, quel type de personnes avaient le plus de chance de survivre ?\n",
        "\n",
        "Nous allons utilisé des méthodes d'`apprentissage supervisé` pour répondre à ces questions. L'objectif de l'apprentissage supervisé est de prévoir l'étiquette $Y$ ou la valeur de $Y$ (régression) associée à une nouvelle entrée, où il est sous-entendu que ($X, Y$) est une nouvelle réalisation des données, indépendante de l’échantillon observé. Ici, nous utilserons 4 algorithmes différents : l'algorithme des $k$ plus proches voisins, la régression logistique, un arbre de décision et l'algorithme SVM.\n",
        "\n",
        "Nous utiliserons Python et la librairie [Scikit-learn](https://scikit-learn.org/stable/), bibliothèque open source d'apprentissage automatique dédiée au machine learning pour réalisé une classification. Ici, on est dans un cas de classification et non de régression, car notre variable cible ($Y$) est une étiquette (Survécu ou Non survivant).\n",
        "\n",
        "# Préparation des données\n",
        "\n",
        "Nous commençons par importer le très célèbre jeu de données **Titanic** (Discponible [ici](https://www.kaggle.com/competitions/titanic)). De plus, nous faisons appel à quelques librairies (Il est nécessaire des les [installer](https://packaging.python.org/en/latest/tutorials/installing-packages/) avant de les appeler).\n",
        "\n",
        "``` python\n",
        "---\n",
        "# Import librairies ----\n",
        "\n",
        "import pandas as pd\n",
        "import numpy as np\n",
        "import matplotlib.pyplot as plt\n",
        "import seaborn as sns\n",
        "import plotly.express as px\n",
        "import matplotlib.colors as mcolors\n",
        "\n",
        "# Import dataset ----\n",
        "\n",
        "titanic <- pd.read_csv('titanic.csv')\n",
        "---\n",
        "```\n"
      ],
      "id": "6849ab90"
    },
    {
      "cell_type": "code",
      "metadata": {},
      "source": [
        "#| echo: false\n",
        "%run imports.py\n",
        "import seaborn as sns\n",
        "sns.set_theme(style=\"whitegrid\")\n",
        "\n",
        "titanic = pd.read_csv('titanic.csv')"
      ],
      "id": "41a58b37",
      "execution_count": null,
      "outputs": []
    },
    {
      "cell_type": "markdown",
      "metadata": {},
      "source": [
        "Ci-dessous un petit aperçu des 5 premières lignes du jeu de données.\n",
        "\n",
        "``` python\n",
        "---\n",
        "titanic.head()\n",
        "---\n",
        "```\n"
      ],
      "id": "90fdf9d9"
    },
    {
      "cell_type": "code",
      "metadata": {},
      "source": [
        "#| echo: false\n",
        "titanic.head()"
      ],
      "id": "73675e12",
      "execution_count": null,
      "outputs": []
    },
    {
      "cell_type": "markdown",
      "metadata": {},
      "source": [
        "Notre jeu de données contient 891 observations et 12 variables. Parmi elles, 11 sont explicatives et contiennent des informations sur les passagers, tandis que la dernière est la variable cible `Survived`. Celle-ci indique si un passager a survécu (1) ou non (0), ce que nous cherchons à prédire.\n",
        "\n",
        "``` python\n",
        "---\n",
        "titanic.shape\n",
        "---\n",
        "```\n"
      ],
      "id": "1bd22025"
    },
    {
      "cell_type": "code",
      "metadata": {},
      "source": [
        "#| echo: false\n",
        "titanic.shape"
      ],
      "id": "a43da05f",
      "execution_count": null,
      "outputs": []
    },
    {
      "cell_type": "markdown",
      "metadata": {},
      "source": [
        "Maintenant, on analyse nos variables plus en détail.\n",
        "\n",
        "``` python\n",
        "---\n",
        "titanic.info()\n",
        "---\n",
        "```\n"
      ],
      "id": "2b5b481b"
    },
    {
      "cell_type": "code",
      "metadata": {},
      "source": [
        "#| echo: false\n",
        "titanic.info()"
      ],
      "id": "85ccb935",
      "execution_count": null,
      "outputs": []
    },
    {
      "cell_type": "markdown",
      "metadata": {},
      "source": [
        "On remarque que trois variables contiennent des valeurs manquantes : **Age**, **Cabin** et **Fare**. Les modèles d'apprentissage automatique ne peuvent pas gérer directement ces valeurs, donc on va devoir les traiter.\n",
        "\n",
        "Ensuite, on remarque qu'on a à la fois des variables **quantitatives** et **qualitatives**. Parmi ces dernières, certaines contiennent des informations textuelles. Comme la plupart des modèles sont conçus pour travailler avec des données numériques, il faudra traiter ces variables, par exemple en les transformant en variables binaires (dichotomisation).\n",
        "\n",
        "Enfin, on sait que la variable **Name** ne nous sera pas utile, car il est peu probable qu'elle ait un lien direct avec la variable cible. De plus, ces informations sont non structurées, car les noms et prénoms sont écrits en texte libre. Cependant, il pourrait y avoir une corrélation entre le titre (M, Mme, Dr, etc.) et la cible, mais ce n'est pas ce que nous allons explorer ici.\n",
        "\n",
        "Ci-dessous, les statistiques descriptives de nos 2 variables quantitatives continues.\n",
        "\n",
        "``` python\n",
        "---\n",
        "titanic[['Age', 'Fare']].describe()\n",
        "---\n",
        "```\n"
      ],
      "id": "8e9b40f1"
    },
    {
      "cell_type": "code",
      "metadata": {},
      "source": [
        "#| echo: false\n",
        "titanic[['Age', 'Fare']].describe()"
      ],
      "id": "1f600f19",
      "execution_count": null,
      "outputs": []
    },
    {
      "cell_type": "markdown",
      "metadata": {},
      "source": [
        "On observe une forte dispersion des valeurs sur la variable **Fare**, avec des écarts importants entre les prix les plus bas et les plus élevés. Il est donc essentiel de normaliser ces données, surtout lorsque l'on utilise des algorithmes sensibles aux distances. Sans cette mise à l'échelle, les tarifs élevés, notamment ceux de la 1ʳᵉ classe, risquent d'avoir une influence disproportionnée sur le modèle, faussant ainsi les résultats.\n"
      ],
      "id": "fd689179"
    },
    {
      "cell_type": "code",
      "metadata": {},
      "source": [
        "#| echo: false\n",
        "table = pd.crosstab(titanic[\"Sex\"], titanic[\"Survived\"], normalize=\"index\") * 100\n",
        "table.columns = [\"Non Survivant\", \"Survivant\"]\n",
        "table = table.style.set_caption(\"Répartition des survivants et non-survivants par sexe\") \\\n",
        "                         .format(\"{:.2f}%\") \\\n",
        "                         .set_table_styles([{\"selector\": \"caption\", \n",
        "                                             \"props\": [(\"font-size\", \"16px\"), (\"font-weight\", \"bold\")]}])\n",
        "table"
      ],
      "id": "08eee2ec",
      "execution_count": null,
      "outputs": []
    },
    {
      "cell_type": "markdown",
      "metadata": {},
      "source": [
        "On observe sur la variable **Survived** une disparité marquée entre les sexes : 74,20 % des femmes ont survécu contre seulement 18,89 % des hommes.\n"
      ],
      "id": "b091de7c"
    },
    {
      "cell_type": "code",
      "metadata": {},
      "source": [
        "#| echo: false\n",
        "\n",
        "table_survie = titanic[\"Survived\"].value_counts(normalize=True) * 100\n",
        "table_survie = pd.DataFrame(table_survie).rename(columns={\"Survived\": \"Pourcentage\"})\n",
        "table_survie.index = [\"Non Survivant\", \"Survivant\"]\n",
        "table_survie = table_survie.style.set_caption(\"Répartition des survivants et non-survivants\") \\\n",
        "                               .format(\"{:.2f}%\") \\\n",
        "                               .set_table_styles([{\"selector\": \"caption\", \n",
        "                                                   \"props\": [(\"font-size\", \"16px\"), (\"font-weight\", \"bold\")]}])\n",
        "table_survie"
      ],
      "id": "f59f81e9",
      "execution_count": null,
      "outputs": []
    },
    {
      "cell_type": "markdown",
      "metadata": {},
      "source": [
        "La variable **Survived** est déséquilibrée, avec une majorité de passagers n'ayant pas survécu. Il y a significativement plus de décès que de survivants, ce qui peut influencer les performances du modèle prédictif. Il sera donc important de prendre en compte ce déséquilibre lors de l'entraînement des algorithmes.\n",
        "\n",
        "## Visualisation graphique\n",
        "\n",
        "La section précédente nous a permis d'identifier les incohérences et anomalies dans nos données. Dans cette même optique, nous allons maintenant les analyser visuellement afin de mieux comprendre leur répartition.\n",
        "\n",
        "Nous présentons ici seulement quelques graphiques intéressants, mais il existe bien d'autres visualisations possibles tout aussi intéressantes.\n"
      ],
      "id": "12f78247"
    },
    {
      "cell_type": "code",
      "metadata": {},
      "source": [
        "#| warning: false\n",
        "#| code-fold: true\n",
        "#| code-summary: Cliquer pour voir le code\n",
        "#| code-overflow: scroll\n",
        "\n",
        "cmap = sns.cubehelix_palette(rot=-.2, as_cmap=True)\n",
        "colors = [mcolors.rgb2hex(c) for c in cmap.colors]\n",
        "\n",
        "fig = px.scatter(titanic, \n",
        "x=\"Age\", y=\"Fare\", \n",
        "color=\"SibSp\", size=\"Pclass\",\n",
        "color_continuous_scale=colors,\n",
        "labels={\"Age\": \"Age\", \"Fare\": \"Fare\"},\n",
        "log_x=True, log_y=True)\n",
        "\n",
        "fig.update_traces(marker=dict(sizemode='area', \n",
        "opacity=0.7, line=dict(width=0)),\n",
        "selector=dict(mode='markers'))\n",
        "\n",
        "fig.update_layout(\n",
        "  template=\"plotly_white\",\n",
        "  title_text='Relation entre l\\'âge et le prix du Billet selon le Nombre de frères/sœurs et conjoints',\n",
        "  )\n",
        "\n",
        "fig.show()"
      ],
      "id": "248dd330",
      "execution_count": null,
      "outputs": []
    },
    {
      "cell_type": "markdown",
      "metadata": {},
      "source": [
        "Les passagers les plus âgés, ayant payé les tarifs les plus élevés, voyagent principalement en 1ʳᵉ classe et sont souvent seuls ou avec un membre de leur famille. En revanche, ceux ayant payé les tarifs les plus bas sont majoritairement en 2ᵉ ou 3ᵉ classe, avec souvent plusieurs frères et sœurs à bord.\n"
      ],
      "id": "15e0bb92"
    },
    {
      "cell_type": "code",
      "metadata": {},
      "source": [
        "#| warning: false\n",
        "#| code-fold: true\n",
        "#| code-summary: Cliquer pour voir le code\n",
        "#| code-overflow: scroll\n",
        "\n",
        "color_map = {0: 'red', 1: 'green'}\n",
        "\n",
        "fig = px.strip(titanic, \n",
        "               x=\"Sex\", y=\"Age\", \n",
        "               color=\"Survived\", \n",
        "               category_orders={\"Sex\": [\"male\", \"female\"]}, \n",
        "               labels={\"Age\": \"Age\", \"Sex\": \"Sex\"},\n",
        "               color_discrete_map=color_map)\n",
        "\n",
        "fig.update_traces(marker=dict(size=8, opacity=0.7, line=dict(width=0)),\n",
        "                  selector=dict(mode='markers'))\n",
        "\n",
        "fig.update_layout(\n",
        "    yaxis_title=\"\",\n",
        "    template=\"plotly_white\",\n",
        "    title_text='Répartition de l\\'âge selon le sexe et la survie à bord'\n",
        ")\n",
        "\n",
        "fig.show()"
      ],
      "id": "93499662",
      "execution_count": null,
      "outputs": []
    },
    {
      "cell_type": "markdown",
      "metadata": {},
      "source": [
        "Les femmes (35,2 %) sont beaucoup moins représentées dans le jeu de données que les hommes (64,8 %). On observe qu'il y a une densité élevée de survivantes dans la tranche des jeunes adultes et des adultes moyens. Les hommes sont sur-représentés parmi les non-survivants, avec une concentration plus marquée parmi les adultes jeunes et moyens.\n",
        "\n",
        "Nous savons que les femmes et les enfants avaient des priorités d'évacuation pendant le naufrage et elles avaient donc une probabilité de survie plus élevée que celle des hommes.\n"
      ],
      "id": "b1e63dde"
    },
    {
      "cell_type": "code",
      "metadata": {},
      "source": [
        "#| warning: false\n",
        "#| code-fold: true\n",
        "#| code-summary: Cliquer pour voir le code\n",
        "#| code-overflow: scroll\n",
        "\n",
        "fig = px.histogram(titanic, \n",
        "                   x=\"Age\", \n",
        "                   color=\"Survived\", \n",
        "                   facet_col=\"Survived\",\n",
        "                   nbins=20,\n",
        "                   color_discrete_map={0: 'red', 1: 'green'},\n",
        "                   labels={\"Age\": \"Age\", \"Survived\": \"Survived\"},\n",
        "                   histnorm=\"percent\")\n",
        "\n",
        "fig.update_traces(marker_line_color=\"black\",\n",
        "                  marker_line_width=1)\n",
        "\n",
        "fig.update_layout(\n",
        "    title=\"Répartition de l'âge en fonction de la survie\",\n",
        "    template=\"plotly_white\",\n",
        "    xaxis_title=\"Âge\",\n",
        "    yaxis_title=\"Fréquence (%)\"\n",
        ")\n",
        "\n",
        "fig.show()"
      ],
      "id": "1e797fb8",
      "execution_count": null,
      "outputs": []
    },
    {
      "cell_type": "markdown",
      "metadata": {},
      "source": [
        "## Traitement des données\n",
        "\n",
        "Maintenant que nous avons une vue d'ensemble de nos données, nous allons nous concentrer sur le traitement des anomalies identifiées précédemment, en vue de préparer efficacement la construction du modèle.\n",
        "\n",
        "Nous commençons par convertir la variable **Sexe** en une variable binaire. Ici, nous la remplaçons directement en créant une nouvelle version par-dessus. Cependant, il est recommandé de créer une variable distincte afin de préserver l'intégrité des données d'origine.\n",
        "\n",
        "``` python\n",
        "---\n",
        "titanic['Sex'] = (titanic['Sex'] == 'female').astype(int)\n",
        "---\n",
        "```\n"
      ],
      "id": "0738dc2c"
    },
    {
      "cell_type": "code",
      "metadata": {},
      "source": [
        "#| echo: false\n",
        "print(\"Avant conversion :\")\n",
        "print(titanic['Sex'].head())\n",
        "\n",
        "titanic['Sex'] = (titanic['Sex'] == 'female').astype(int)\n",
        "\n",
        "print(\"\\nAprès conversion :\")\n",
        "print(titanic['Sex'].head())"
      ],
      "id": "99a539c1",
      "execution_count": null,
      "outputs": []
    },
    {
      "cell_type": "markdown",
      "metadata": {},
      "source": [
        "Nous passons maintenant au traitement des données manquantes. Il existe plusieurs approches pour compléter les données manquantes. Par exemple, la suppresion des observations, l'imputation de ces données par une valeur tel que la moyenne, la médiane ... On introduirait cependant un biais sur cette valeur. Il est également possible d'imputer les données manquantes à l'aide d'une méthode statistique (régression, $k$ plus proches voisins).\n"
      ],
      "id": "ca2f0596"
    },
    {
      "cell_type": "code",
      "metadata": {},
      "source": [
        "#| warning: false\n",
        "#| code-fold: true\n",
        "#| code-summary: Cliquer pour voir le code\n",
        "#| code-overflow: scroll\n",
        "\n",
        "titanic.count().plot(kind='barh', title=\"Nombre d'occurrences par variable avant traitement\",\n",
        "                                                 xlabel=\"Nombre d'occurences\",\n",
        "                                                 ylabel=\"Variable\")"
      ],
      "id": "d5762e6d",
      "execution_count": null,
      "outputs": []
    },
    {
      "cell_type": "markdown",
      "metadata": {},
      "source": [
        "Dans notre jeu de données, il manque des données pour les variables **Age**, **Embarked** et **Cabin**.\n",
        "\n",
        "La variable **Cabin** est très peu renseignée. Il est inutile d'imputer les valeurs manquantes par une autre valeur, nous choisissons donc de supprimer cette variable. Toutefois, nous décidons de créer une nouvelle variable indiquant si cette donnée a été renseignée ou non {0; 1}.\n",
        "\n",
        "``` python\n",
        "---\n",
        "titanic['CabinMissing'] = titanic.Cabin.isnull().astype(int) # Variable indicatrice\n",
        "\n",
        "titanic = titanic.drop('Cabin', axis=1) # Suppresion de Cabin\n",
        "\n",
        "titanic['CabinMissing'] # Visualisation de CabinMissing\n",
        "---\n",
        "```\n"
      ],
      "id": "eca87c86"
    },
    {
      "cell_type": "code",
      "metadata": {},
      "source": [
        "#| echo: false\n",
        "titanic['CabinMissing'] = titanic.Cabin.isnull().astype(int) # Variable indicatrice\n",
        "\n",
        "titanic = titanic.drop('Cabin', axis=1) # Suppresion de Cabin\n",
        "\n",
        "titanic['CabinMissing'] # Visualisation de CabinMissing"
      ],
      "id": "0832f97f",
      "execution_count": null,
      "outputs": []
    },
    {
      "cell_type": "markdown",
      "metadata": {},
      "source": [
        "La variable **Age** est bien plus renseigné que la variable **Cabin**, on décide d'imputer ces valeurs manquantes par l'âge médian. Évidemment, cela biaisera notre distribution.\n",
        "\n",
        "L'âge médian des passagers est de 28 ans. Nous imputerons les 177 valeurs manquantes par cet valeur.\n",
        "\n",
        "``` python\n",
        "---\n",
        "titanic.Age.median()\n",
        "---\n",
        "```\n"
      ],
      "id": "df514a59"
    },
    {
      "cell_type": "code",
      "metadata": {},
      "source": [
        "#| echo: false\n",
        "titanic.Age.median()"
      ],
      "id": "97c4ac21",
      "execution_count": null,
      "outputs": []
    },
    {
      "cell_type": "markdown",
      "metadata": {},
      "source": [
        "``` python\n",
        "---\n",
        "age_median = titanic.Age.median()\n",
        "\n",
        "titanic['Age'] = titanic.Age.fillna(median_age)\n",
        "---\n",
        "```\n"
      ],
      "id": "c141c075"
    },
    {
      "cell_type": "code",
      "metadata": {},
      "source": [
        "#| echo: false\n",
        "\n",
        "age_median = titanic.Age.median()\n",
        "\n",
        "titanic['Age'] = titanic.Age.fillna(age_median)\n",
        "\n",
        "titanic['Age_2'] = titanic.Age.fillna(age_median) # Création pour le graphqiue"
      ],
      "id": "f4492229",
      "execution_count": null,
      "outputs": []
    },
    {
      "cell_type": "markdown",
      "metadata": {},
      "source": [
        "Ci-dessous, nous observons les distributions de l'âge avant et après imputation. On remarque clairement que l'imputation a modifié la distribution des données.\n"
      ],
      "id": "2825fed2"
    },
    {
      "cell_type": "code",
      "metadata": {},
      "source": [
        "#| warning: false\n",
        "#| code-fold: true\n",
        "#| code-summary: Cliquer pour voir le code\n",
        "#| code-overflow: scroll\n",
        "\n",
        "from plotly.subplots import make_subplots\n",
        "import plotly.graph_objects as go\n",
        "\n",
        "fig = make_subplots(rows=1, cols=2, subplot_titles=[\"Avant imputation\", \"Après imputation\"], shared_yaxes=True)\n",
        "\n",
        "fig.add_trace(\n",
        "    go.Histogram(x=titanic[\"Age\"], nbinsx=20, name=\"Age\", marker_color=\"blue\"),\n",
        "    row=1, col=1\n",
        ")\n",
        "\n",
        "fig.add_trace(\n",
        "    go.Histogram(x=titanic[\"Age_2\"], nbinsx=20, name=\"Age_2\", marker_color=\"darkcyan\"),\n",
        "    row=1, col=2\n",
        ")\n",
        "\n",
        "fig.update_traces(marker_line_color=\"black\",\n",
        "                  marker_line_width=1)\n",
        "\n",
        "fig.update_layout(\n",
        "    title=\"Distribution de l'âge des passagers du Titanic\",\n",
        "    template=\"plotly_white\",\n",
        "    xaxis_title=\"Âge\",\n",
        "    yaxis_title=\"Nombre de passagers\",\n",
        "    showlegend=False\n",
        ")\n",
        "\n",
        "fig.show()"
      ],
      "id": "a0f6034c",
      "execution_count": null,
      "outputs": []
    },
    {
      "cell_type": "code",
      "metadata": {},
      "source": [
        "#| echo: false\n",
        "\n",
        "titanic = titanic.drop('Age_2', axis=1)  # Suppression après graphique"
      ],
      "id": "c5703848",
      "execution_count": null,
      "outputs": []
    },
    {
      "cell_type": "markdown",
      "metadata": {},
      "source": [
        "Nous remplaçons les deux valeurs manquantes de la variable **Embarked**, représentant le port de départ, par le port de départ majoritaire des passagers.\n",
        "\n",
        "``` python\n",
        "---\n",
        "maj_port = titanic[\"Embarked\"].mode()[0]\n",
        "\n",
        "titanic[\"Embarked\"].fillna(maj_port, inplace=True)\n",
        "---\n",
        "```\n",
        "\n",
        "Enfin, nous excluons les variables suivantes :\n",
        "\n",
        "-   **PassengerId** : Il s'agit d'un simple identifiant sans influence sur la survie.\n",
        "\n",
        "-   **Name** : Cette variable contient des informations textuelles difficiles à exploiter directement.\n",
        "\n",
        "-   **Ticket** : Elle présente trop de valeurs uniques et apporte peu d'informations pertinentes.\n",
        "\n",
        "``` python\n",
        "---\n",
        "titanic = titanic.drop(columns=[\"PassengerId\", \"Name\", \"Ticket\"])\n",
        "---\n",
        "```\n"
      ],
      "id": "3919664b"
    },
    {
      "cell_type": "code",
      "metadata": {},
      "source": [
        "#| echo: false\n",
        "titanic = titanic.drop(columns=[\"PassengerId\", \"Name\", \"Ticket\"])"
      ],
      "id": "bd8a88e0",
      "execution_count": null,
      "outputs": []
    },
    {
      "cell_type": "markdown",
      "metadata": {},
      "source": [
        "Le jeu de données est désormais complet, sans aucune valeur manquante.\n"
      ],
      "id": "ad3d9ea6"
    },
    {
      "cell_type": "code",
      "metadata": {},
      "source": [
        "#| warning: false\n",
        "#| code-fold: true\n",
        "#| code-summary: Cliquer pour voir le code\n",
        "#| code-overflow: scroll\n",
        "\n",
        "titanic.count().plot(kind='barh', color='green', title=\"Nombre d'occurrences par variable après traitement\",\n",
        "                                                 xlabel=\"Nombre d'occurences\",\n",
        "                                                 ylabel=\"Variable\")"
      ],
      "id": "62ff435d",
      "execution_count": null,
      "outputs": []
    },
    {
      "cell_type": "markdown",
      "metadata": {},
      "source": [
        "## Variables pertinentes\n",
        "\n",
        "Nous mesurons la corrélation entre les variables explicatives et notre variable cible afin d’identifier celles qui ont le plus d’influence sur la prédiction.\n",
        "\n",
        "``` python\n",
        "---\n",
        "cor = titanic.corr(numeric_only=True)[\"Survived\"].sort_values(ascending=False)\n",
        "cor\n",
        "---\n",
        "```\n"
      ],
      "id": "4be8abc9"
    },
    {
      "cell_type": "code",
      "metadata": {},
      "source": [
        "#| echo: false\n",
        "cor = titanic.corr(numeric_only=True)[\"Survived\"].sort_values(ascending=False)\n",
        "cor"
      ],
      "id": "88abcf23",
      "execution_count": null,
      "outputs": []
    },
    {
      "cell_type": "markdown",
      "metadata": {},
      "source": [
        "Ces résultats montrent que les variables Sex et Fare sont plutôt corrélées positivement avec la survie des passagers. La variable classe, quant à elle, a une correlation négative assez élevée avec la survie des passagers. Cela est cohérent avec l'histoire du Titanic. Les autres variables ont un impact négligeable sur la survie des passagers.\n",
        "\n",
        "Bien qu'il soit possible d'explorer d'autres analyses, telles que la sélection de variables avancée ou l'importance des features, ces méthodes ne seront pas abordées dans le cadre de cette étude.\n",
        "\n",
        "# Modélisation\n",
        "\n",
        "Après avoir exploré et préparé notre jeu de données, nous passons maintenant à la modélisation. L'objectif est de construire un modèle capable de prédire si un passager a survécu ou non en fonction de différentes caractéristiques telles que son sexe, son âge ou sa classe de voyage. Maintenant que nous disposons de données propres et prêtes à être utilisées, nous allons entraîner notre modèle pour prédire la survie des passagers à partir des variables explicatives.\n",
        "\n",
        "Afin de faciliter les prochaines étapes, nous créons deux objets : `X` pour les variables explicatives et `y` pour la variable cible.\n",
        "\n",
        "``` python\n",
        "---\n",
        "X = titanic.drop(columns=\"Survived\")\n",
        "\n",
        "y = titanic[[\"Survived\"]]\n",
        "---\n",
        "```\n"
      ],
      "id": "6be22c99"
    },
    {
      "cell_type": "code",
      "metadata": {},
      "source": [
        "#| echo: false\n",
        "X = titanic.drop(columns=\"Survived\")\n",
        "y = titanic[[\"Survived\"]]"
      ],
      "id": "daa235ad",
      "execution_count": null,
      "outputs": []
    },
    {
      "cell_type": "markdown",
      "metadata": {},
      "source": [
        "`X` contient toutes les colonnes du DataFrame titanic sauf la variable Survived, tandis que `y` contient uniquement la variable Survived, qui est la variable cible que nous souhaitons prédire.\n",
        "\n",
        "On commence par diviser notre jeu de données initial en deux sous-ensembles :\n",
        "\n",
        "-   Un jeu d’entraînement contenant 80 % des données, sur lequel le modèle va apprendre.\n",
        "\n",
        "-   Un jeu de test contenant les 20 % restants, qui servira à évaluer la performance du modèle.\n",
        "\n",
        "![](image_titanic/train_test_split.jpg){fig-alt=\"Trajet du titanic\" fig-align=\"center\" width=\"350\"}\n",
        "\n",
        "L’idée est simple : on entraîne le modèle sur une partie des données, puis on teste sa capacité à faire des prédictions sur des données qu’il n’a jamais vues, pour vérifier s’il généralise bien.\n",
        "\n",
        "``` python\n",
        "---\n",
        "X_train, X_test, y_train, y_test = train_test_split(X, y, test_size = 0.2, random_state = 42)\n",
        "---\n",
        "```\n"
      ],
      "id": "322fbf67"
    },
    {
      "cell_type": "code",
      "metadata": {},
      "source": [
        "#| echo: false\n",
        "X_train, X_test, y_train, y_test = train_test_split(X, y, test_size = 0.2, random_state = 42)"
      ],
      "id": "5025cfe6",
      "execution_count": null,
      "outputs": []
    },
    {
      "cell_type": "markdown",
      "metadata": {},
      "source": [
        "La fonction `train_test_split` permet de réaliser cette séparation. Le paramètre **test_size** indique que, dans notre cas, 20 % des données seront utilisées pour le jeu de test. Le paramètre **random_state** permet de fixer une graine aléatoire afin d’obtenir des résultats reproductibles.\n",
        "\n",
        "Nous allons maintenant mettre en place un modèle de régression logistique, qui permet de prédire une classe, en l'occurrence si un passager a survécu ou non.\n",
        "\n",
        "``` python\n",
        "---\n",
        "lr = LogisticRegression(random_state = 42) # Création de l'objet\n",
        "\n",
        "model_lr = lr.fit(X_train, y_train.values.ravel()) # Entraînement du modèle sur les données d'entrainement\n",
        "---\n",
        "```\n"
      ],
      "id": "4e2ca42f"
    },
    {
      "cell_type": "code",
      "metadata": {},
      "source": [
        "#| echo: false\n",
        "lr = LogisticRegression(random_state = 42) # Création de l'objet\n",
        "\n",
        "model_lr = lr.fit(X_train, y_train) # Entraînement du modèle sur les données d'entrainement"
      ],
      "id": "3907d8f7",
      "execution_count": null,
      "outputs": []
    },
    {
      "cell_type": "markdown",
      "metadata": {},
      "source": [
        "Une fois le modèle entraîné, nous pouvons effectuer des prédictions sur les données de test et d'entraînement.\n",
        "\n",
        "``` python\n",
        "---\n",
        "y_pred_lr = model_lr.predict(X_test) # Prédiction test\n",
        "\n",
        "y_pred_lr_train = model_lr.predict(X_train) # Prédiction entraînement\n",
        "---\n",
        "```\n"
      ],
      "id": "a36e0268"
    },
    {
      "cell_type": "code",
      "metadata": {},
      "source": [
        "#| echo: false\n",
        "y_pred_lr = model_lr.predict(X_test) # Prédiction test\n",
        "\n",
        "y_pred_lr_train = model_lr.predict(X_train) # Prédiction entraînement"
      ],
      "id": "814f33d0",
      "execution_count": null,
      "outputs": []
    },
    {
      "cell_type": "markdown",
      "metadata": {},
      "source": [
        "# Conclusion"
      ],
      "id": "f22a586c"
    }
  ],
  "metadata": {
    "kernelspec": {
      "name": "python3",
      "language": "python",
      "display_name": "Python 3 (ipykernel)",
      "path": "/home/onyxia/.local/share/jupyter/kernels/python3"
    }
  },
  "nbformat": 4,
  "nbformat_minor": 5
}